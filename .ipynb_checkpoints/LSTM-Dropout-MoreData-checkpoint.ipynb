{
 "cells": [
  {
   "cell_type": "code",
   "execution_count": 1,
   "metadata": {},
   "outputs": [],
   "source": [
    "import numpy as np\n",
    "import pandas as pd\n",
    "\n",
    "import torch\n",
    "import torch.nn as nn\n",
    "import torch.optim as optim\n",
    "import matplotlib.pyplot as plt\n",
    "from collections import defaultdict\n",
    "import random\n",
    "import pickle\n",
    "import os"
   ]
  },
  {
   "cell_type": "code",
   "execution_count": 2,
   "metadata": {},
   "outputs": [
    {
     "name": "stdout",
     "output_type": "stream",
     "text": [
      "GeForce GTX 1080 Ti\n"
     ]
    }
   ],
   "source": [
    "if torch.cuda.is_available():\n",
    "    print(torch.cuda.get_device_name())"
   ]
  },
  {
   "cell_type": "code",
   "execution_count": 3,
   "metadata": {},
   "outputs": [],
   "source": [
    "device = torch.device('cuda' if torch.cuda.is_available() else 'cpu')"
   ]
  },
  {
   "cell_type": "code",
   "execution_count": 4,
   "metadata": {},
   "outputs": [],
   "source": [
    "DATA_VERSION = 'v9'\n",
    "MODEL_VERSION = 'v10'\n",
    "\n",
    "DATA_ROOT = os.path.join('data', DATA_VERSION)\n",
    "MODEL_ROOT = os.path.join('model', MODEL_VERSION)\n",
    "\n",
    "TRAIN = os.path.join(DATA_ROOT, f'train.pkl')\n",
    "TEST = os.path.join(DATA_ROOT, f'test.pkl')\n",
    "WORD_IX = os.path.join(DATA_ROOT, f'word_ix.pkl')\n",
    "IX_WORD = os.path.join(DATA_ROOT, f'ix_word.pkl')"
   ]
  },
  {
   "cell_type": "code",
   "execution_count": 5,
   "metadata": {},
   "outputs": [],
   "source": [
    "train = pickle.load(open(TRAIN, 'rb'))\n",
    "test = pickle.load(open(TEST, 'rb'))\n",
    "word_ix = pickle.load(open(WORD_IX, 'rb'))\n",
    "ix_word = pickle.load(open(IX_WORD, 'rb'))\n",
    "encoded_headlines = train + test"
   ]
  },
  {
   "cell_type": "code",
   "execution_count": 6,
   "metadata": {},
   "outputs": [
    {
     "name": "stdout",
     "output_type": "stream",
     "text": [
      "length of train:  12750\n",
      "length of test:  2250\n"
     ]
    }
   ],
   "source": [
    "print('length of train: ', len(train))\n",
    "print('length of test: ', len(test))"
   ]
  },
  {
   "cell_type": "code",
   "execution_count": 7,
   "metadata": {},
   "outputs": [],
   "source": [
    "# General structure learned from PyTorch documentation\n",
    "class myLSTM(nn.Module):\n",
    "    def __init__(self, hidden_size, output_size, vocab_size, embedding_size):\n",
    "        super(myLSTM, self).__init__()\n",
    "        \n",
    "        self.embedding = nn.Embedding(vocab_size, embedding_size)\n",
    "        \n",
    "        #self.input_size = input_size\n",
    "        self.hidden_size = hidden_size\n",
    "        self.output_size = output_size\n",
    "        self.embedding_size = embedding_size\n",
    "        \n",
    "        self.lstm = nn.LSTM(embedding_size, hidden_size)\n",
    "        self.dropout = nn.Dropout(p=0.3)\n",
    "        self.linear = nn.Linear(hidden_size, output_size)\n",
    "    \n",
    "    def forward(self, words):    \n",
    "        \n",
    "        h = torch.zeros(1, 1, self.hidden_size, requires_grad=False).to(device)\n",
    "        c = torch.zeros(1, 1, self.hidden_size, requires_grad=False).to(device)\n",
    "        \n",
    "        # embed words\n",
    "        w_embedding = self.embedding(words)\n",
    "        w_embedding = w_embedding.view(len(words), 1, self.embedding_size)\n",
    "        #print('words: ', words.shape)\n",
    "        #print('words.view(1,-1): ', words.view(1,-1))\n",
    "        #print('words.squeeze: ', words.squeeze())\n",
    "        \n",
    "        #print('word_embedding: ', w_embedding)\n",
    "        #print('word_embedding size: \\n', w_embedding.size())\n",
    "        #print('word_embedding weight: \\n', self.embedding.weight)\n",
    "\n",
    "        # run the lstm layer\n",
    "        output, (h, c) = self.lstm(w_embedding, (h, c))  \n",
    "        output = self.dropout(output)\n",
    "        \n",
    "        result = self.linear(output)\n",
    "        #print('output shape: ', result.shape)\n",
    "        #print()\n",
    "        \n",
    "        return result"
   ]
  },
  {
   "cell_type": "code",
   "execution_count": 8,
   "metadata": {
    "scrolled": false
   },
   "outputs": [
    {
     "name": "stdout",
     "output_type": "stream",
     "text": [
      "epoch:  0 loss:  7.6959355128045175 difference:  0\n",
      "epoch:  1 loss:  7.08165715268079 difference:  -0.6142783601237278\n",
      "epoch:  2 loss:  6.8489077672023395 difference:  -0.23274938547845014\n",
      "epoch:  3 loss:  6.637190620141871 difference:  -0.21171714706046885\n",
      "epoch:  4 loss:  6.456321801391303 difference:  -0.18086881875056804\n",
      "epoch:  5 loss:  6.317538149992625 difference:  -0.13878365139867732\n",
      "epoch:  6 loss:  6.214871447338777 difference:  -0.10266670265384814\n",
      "epoch:  7 loss:  6.114320286746119 difference:  -0.10055116059265856\n",
      "epoch:  8 loss:  6.052441120409498 difference:  -0.06187916633662027\n",
      "epoch:  9 loss:  6.000667635216432 difference:  -0.051773485193066016\n",
      "epoch:  10 loss:  5.967773970286052 difference:  -0.032893664930380595\n",
      "epoch:  11 loss:  5.935306025056278 difference:  -0.03246794522977403\n",
      "epoch:  12 loss:  5.903716132294898 difference:  -0.0315898927613798\n",
      "epoch:  13 loss:  5.868356412840824 difference:  -0.03535971945407379\n",
      "epoch:  14 loss:  5.840400923373652 difference:  -0.02795548946717208\n",
      "epoch:  15 loss:  5.808475237869749 difference:  -0.031925685503902734\n",
      "epoch:  16 loss:  5.777678696884829 difference:  -0.030796540984920462\n",
      "epoch:  17 loss:  5.7405691569833195 difference:  -0.037109539901509336\n",
      "epoch:  18 loss:  5.701312731574563 difference:  -0.03925642540875618\n",
      "epoch:  19 loss:  5.666298081659804 difference:  -0.035014649914759666\n",
      "epoch:  20 loss:  5.630295557900971 difference:  -0.036002523758832616\n",
      "epoch:  21 loss:  5.60004008286607 difference:  -0.03025547503490067\n",
      "epoch:  22 loss:  5.566151042321149 difference:  -0.03388904054492148\n",
      "epoch:  23 loss:  5.538713829648261 difference:  -0.027437212672888123\n",
      "epoch:  24 loss:  5.510144351697436 difference:  -0.028569477950824762\n",
      "epoch:  25 loss:  5.483935576653948 difference:  -0.02620877504348762\n",
      "epoch:  26 loss:  5.4561953917344415 difference:  -0.027740184919506916\n",
      "epoch:  27 loss:  5.4316964620515416 difference:  -0.024498929682899906\n",
      "epoch:  28 loss:  5.410618336406409 difference:  -0.021078125645132673\n",
      "epoch:  29 loss:  5.376929749114841 difference:  -0.033688587291567984\n",
      "epoch:  30 loss:  5.359868681613137 difference:  -0.017061067501703775\n",
      "epoch:  31 loss:  5.338934442407945 difference:  -0.020934239205192107\n",
      "epoch:  32 loss:  5.3154267070340175 difference:  -0.023507735373927474\n",
      "epoch:  33 loss:  5.298827663655374 difference:  -0.016599043378643152\n",
      "epoch:  34 loss:  5.273720379464766 difference:  -0.025107284190608148\n",
      "epoch:  35 loss:  5.261304564027225 difference:  -0.012415815437541333\n",
      "epoch:  36 loss:  5.2398974062321235 difference:  -0.021407157795101384\n",
      "epoch:  37 loss:  5.223147969619901 difference:  -0.016749436612222723\n",
      "epoch:  38 loss:  5.2055642383846585 difference:  -0.01758373123524226\n",
      "epoch:  39 loss:  5.201612721078536 difference:  -0.003951517306122199\n",
      "epoch:  40 loss:  5.18874629501268 difference:  -0.012866426065856196\n",
      "epoch:  41 loss:  5.169657005665349 difference:  -0.019089289347331118\n",
      "epoch:  42 loss:  5.155106675297606 difference:  -0.014550330367742781\n",
      "epoch:  43 loss:  5.155210302708196 difference:  0.00010362741058944636\n",
      "epoch:  44 loss:  5.132043671682769 difference:  -0.023166631025426376\n",
      "epoch:  45 loss:  5.129246713582207 difference:  -0.0027969581005624633\n",
      "epoch:  46 loss:  5.118027299619189 difference:  -0.011219413963018177\n",
      "epoch:  47 loss:  5.10741558934193 difference:  -0.010611710277258268\n",
      "epoch:  48 loss:  5.095962773201513 difference:  -0.01145281614041771\n",
      "epoch:  49 loss:  5.080842963896545 difference:  -0.015119809304967369\n"
     ]
    }
   ],
   "source": [
    "# in_size = max_len-1 # should be size of the inputting sentence/batch (how many words are being inputted)\n",
    "h_size = 128 # should be size of learned parameters\n",
    "out_size = len(word_ix) # should be size of vocab\n",
    "vocab_size = len(word_ix) # total unique words in corpus\n",
    "embed_size = 64 # dimension of each word's embedding\n",
    "\n",
    "learning_rate = 0.001\n",
    "num_epochs = 50\n",
    "\n",
    "\n",
    "model = myLSTM(h_size, out_size, vocab_size, embed_size)\n",
    "model = model.to(device)\n",
    "\n",
    "criterion = nn.CrossEntropyLoss()\n",
    "optimizer = optim.Adam(model.parameters(), lr=learning_rate)\n",
    "\n",
    "losses = []\n",
    "\n",
    "for i in range(num_epochs):\n",
    "    total_loss = 0\n",
    "     \n",
    "    for s in train:\n",
    "        \n",
    "        optimizer.zero_grad()\n",
    "        \n",
    "        # predict until the word right before the last word\n",
    "        predictions = model(torch.tensor(s, requires_grad=False)[:-1].to(device))    \n",
    "        \n",
    "        # loss = sent_loss(predictions, s).cpu()\n",
    "        # print(predictions)\n",
    "        loss = criterion(predictions.squeeze(), torch.tensor(s, requires_grad=False)[1:].to(device)).cpu()\n",
    "        total_loss += loss.detach().numpy()\n",
    "\n",
    "        loss.backward()\n",
    "        optimizer.step()\n",
    "        \n",
    "    avg_total_loss = total_loss / len(train)\n",
    "    losses.append(avg_total_loss)\n",
    "    diff = losses[i]-losses[i-1] if i > 0 else 0\n",
    "    print('epoch: ', i, 'loss: ', avg_total_loss, 'difference: ', diff)"
   ]
  },
  {
   "cell_type": "code",
   "execution_count": 9,
   "metadata": {},
   "outputs": [
    {
     "data": {
      "text/plain": [
       "[<matplotlib.lines.Line2D at 0x7f4ad319b6d0>]"
      ]
     },
     "execution_count": 9,
     "metadata": {},
     "output_type": "execute_result"
    },
    {
     "data": {
      "image/png": "[encoded data removed]",
      "text/plain": [
       "<Figure size 432x288 with 1 Axes>"
      ]
     },
     "metadata": {
      "needs_background": "light"
     },
     "output_type": "display_data"
    }
   ],
   "source": [
    "plt.plot(losses)"
   ]
  },
  {
   "cell_type": "code",
   "execution_count": 10,
   "metadata": {},
   "outputs": [],
   "source": [
    "# saving models and trained parameters\n",
    "def saveModel(model, name, root, description):\n",
    "    model = model.cpu()\n",
    "    \n",
    "    if os.path.exists(root) == False:\n",
    "        os.makedirs(root)\n",
    "    \n",
    "    desc = open(os.path.join(root, 'description.txt'), 'w')\n",
    "    desc.write(description + '\\n')\n",
    "    desc.close()\n",
    "    \n",
    "    pickle.dump(model, open(name, 'wb'))"
   ]
  },
  {
   "cell_type": "code",
   "execution_count": 11,
   "metadata": {},
   "outputs": [],
   "source": [
    "def convertToWord(s, ixw, wix):\n",
    "    res = ''\n",
    "    for w in s:\n",
    "        print(w)\n",
    "        res += ixw[w] + ' '\n",
    "    return res"
   ]
  },
  {
   "cell_type": "code",
   "execution_count": 12,
   "metadata": {},
   "outputs": [],
   "source": [
    "def testModel(model, testSet, device, encoded_headlines):\n",
    "    model.eval()\n",
    "    \n",
    "    with torch.no_grad():\n",
    "        total_loss = 0\n",
    "        for s in testSet:\n",
    "            \n",
    "            # predict until the word right before the last word\n",
    "            predictions = model(torch.tensor(s[:-1], requires_grad=False).to(device))\n",
    "            #pred = [np.argmax(predictions[i].cpu().detach().numpy()) for i in range(len(predictions))]\n",
    "            #print('predicted: ', pred, 'truth: ', s)\n",
    "            \n",
    "            loss = criterion(predictions.squeeze(), torch.tensor(s)[1:].to(device)).cpu()   \n",
    "            total_loss += loss.detach().numpy()\n",
    "            #print('loss: ', loss, 's: ', s)\n",
    "            \n",
    "        print('total_loss: ', total_loss)\n",
    "        print('len(testSet): ', len(testSet))\n",
    "        avg_total_loss = total_loss / len(testSet)\n",
    "\n",
    "        print('avg. loss on test set: ', avg_total_loss)\n",
    "    \n",
    "    model.train()"
   ]
  },
  {
   "cell_type": "code",
   "execution_count": 19,
   "metadata": {},
   "outputs": [],
   "source": [
    "def predictSent(modelName, sentence, wordIndex):\n",
    "    # model = torch.load(modelName)\n",
    "    model = pickle.load(open(modelName, 'rb'))\n",
    "    model = model.to(device)\n",
    "    model.eval()\n",
    "    max_len = 5\n",
    "    sent_words = sentence.split()\n",
    "    encoded_sent = [word_ix['<START>']] + [word_ix[w] for w in sentence.split()]\n",
    "    \n",
    "    ix_word = defaultdict(str)\n",
    "    for w in wordIndex:\n",
    "        ix_word[wordIndex[w]] = w\n",
    "    \n",
    "    # predict until we reach the END signal\n",
    "    while True:\n",
    "        with torch.no_grad():\n",
    "            preds = model(torch.tensor(encoded_sent, requires_grad=False).to(device))\n",
    "        softmax = nn.Softmax(dim=1)\n",
    "        preds = softmax(preds.squeeze())\n",
    "        #print(torch.sum(preds[-1]))\n",
    "        pred_word = preds[-1].cpu().detach().numpy().tolist()\n",
    "        \n",
    "        pred_word = list(zip(pred_word, range(len(pred_word))))\n",
    "        pred_word.sort(reverse=True)\n",
    "        \n",
    "        \n",
    "        # randomly from the top k words to be the next word\n",
    "        k = 3\n",
    "        next_word = random.choice(pred_word[:k])\n",
    "        while len(encoded_sent) < max_len and next_word[1] == word_ix['<END>']:\n",
    "            next_word = random.choice(pred_word[:k])\n",
    "\n",
    "        #print(next_word)\n",
    "        encoded_sent.append(next_word[1])\n",
    "        \n",
    "        if len(encoded_sent) >= max_len and next_word[1] == word_ix['<END>']:\n",
    "            break\n",
    "        \n",
    "    # decode the sentence afterward\n",
    "    pred_sentence = [ix_word[i] for i in encoded_sent]\n",
    "    \n",
    "    model.train()\n",
    "    return pred_sentence"
   ]
  },
  {
   "cell_type": "code",
   "execution_count": 14,
   "metadata": {},
   "outputs": [],
   "source": [
    "model_name = os.path.join(MODEL_ROOT, f'model.pkl')\n",
    "model_desc = f'{num_epochs} epochs, {len(train)} training size, {h_size} hidden size, {embed_size} embedding size, dropout=0.3'\n",
    "saveModel(model, model_name, MODEL_ROOT, model_desc)"
   ]
  },
  {
   "cell_type": "code",
   "execution_count": 15,
   "metadata": {},
   "outputs": [],
   "source": [
    "# model = torch.load('model_v4-50_epochs-8k-512h.pt')\n",
    "model = pickle.load(open(model_name, 'rb'))\n",
    "model = model.to(device)"
   ]
  },
  {
   "cell_type": "code",
   "execution_count": 16,
   "metadata": {
    "scrolled": true
   },
   "outputs": [
    {
     "name": "stdout",
     "output_type": "stream",
     "text": [
      "total_loss:  21253.66663980484\n",
      "len(testSet):  2250\n",
      "avg. loss on test set:  9.446074062135484\n"
     ]
    }
   ],
   "source": [
    "testModel(model, test, device, encoded_headlines)"
   ]
  },
  {
   "cell_type": "code",
   "execution_count": 28,
   "metadata": {
    "scrolled": false
   },
   "outputs": [
    {
     "name": "stdout",
     "output_type": "stream",
     "text": [
      "<START> plane crashes fall into adelaide meeting in <END>\n",
      "<START> plane makes emergency news in a <END>\n",
      "<START> plane makes emergency landing for warning on say <END>\n",
      "<START> plane crashes in nsw new zealand pm farmers <END>\n",
      "<START> plane crash death sparks of the woman <END>\n",
      "<START> plane crashes fall in car accident at <END>\n",
      "<START> plane crashes in new home buyers brisbane <END>\n",
      "<START> plane crashes into adelaide meeting with state of international <END>\n",
      "<START> plane makes free for child sex protection day of a day <END>\n",
      "<START> plane makes emergency in hospital set to pay a new final <END>\n"
     ]
    }
   ],
   "source": [
    "for i in range(10):\n",
    "    sent = 'plane'\n",
    "    pred = predictSent(model_name, sent, word_ix)\n",
    "    print(' '.join(pred))"
   ]
  },
  {
   "cell_type": "code",
   "execution_count": null,
   "metadata": {},
   "outputs": [],
   "source": []
  }
 ],
 "metadata": {
  "kernelspec": {
   "display_name": "Python 3 (ipykernel)",
   "language": "python",
   "name": "python3"
  },
  "language_info": {
   "codemirror_mode": {
    "name": "ipython",
    "version": 3
   },
   "file_extension": ".py",
   "mimetype": "text/x-python",
   "name": "python",
   "nbconvert_exporter": "python",
   "pygments_lexer": "ipython3",
   "version": "3.9.5"
  }
 },
 "nbformat": 4,
 "nbformat_minor": 4
}
