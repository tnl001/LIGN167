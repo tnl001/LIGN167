{
 "cells": [
  {
   "cell_type": "code",
   "execution_count": 2,
   "id": "33d771d6",
   "metadata": {},
   "outputs": [],
   "source": [
    "import numpy as np\n",
    "import pandas as pd\n",
    "from collections import defaultdict\n",
    "import random\n",
    "import pickle\n",
    "import os"
   ]
  },
  {
   "cell_type": "code",
   "execution_count": 5,
   "id": "2944ed53",
   "metadata": {},
   "outputs": [],
   "source": [
    "def readData(num_to_keep):\n",
    "    data = pd.read_csv('abcnews.csv')\n",
    "    data = data[['headline_text']]\n",
    "    \n",
    "    num_to_remove = data.shape[0] - num_to_keep\n",
    "    entries_to_remove = np.random.choice(data.index, num_to_remove, replace=False)\n",
    "    data = data.drop(entries_to_remove)\n",
    "    data = data.reset_index()\n",
    "    data = data.set_index('index').T.to_dict()\n",
    "    \n",
    "    return data\n",
    "\n",
    "def processData(data):\n",
    "    headlines = []\n",
    "    for d in data:\n",
    "        headlines.append(['<START>'] + data[d]['headline_text'].split() + ['<END>'])\n",
    "    len_list = [len(h) for h in headlines]\n",
    "             \n",
    "    return headlines\n",
    "\n",
    "# borrowed from LIGN 167 homeword 4 starter code\n",
    "def make_word_to_ix(sents):\n",
    "    word_to_ix = {}\n",
    "    num_unique_words = 0\n",
    "    for sent in sents:\n",
    "        for word in sent:\n",
    "            if word not in word_to_ix:\n",
    "                word_to_ix[word] = num_unique_words\n",
    "                num_unique_words += 1\n",
    "\n",
    "    return word_to_ix\n",
    "\n",
    "def encodeHeadlines(headlines, word_index):\n",
    "    res = []\n",
    "    for hl in headlines:\n",
    "        encoded_hl = []\n",
    "        for w in hl:\n",
    "            encoded_hl.append(word_index[w])\n",
    "        res.append(encoded_hl)\n",
    "    return res\n",
    "\n",
    "def createData(num_sample, train_portion, data_version):\n",
    "    data = readData(num_sample)\n",
    "    headlines = processData(data)\n",
    "    word_ix = make_word_to_ix(headlines)\n",
    "    encoded_headlines = encodeHeadlines(headlines, word_ix)\n",
    "\n",
    "    print('length of word_ix: ', len(word_ix))\n",
    "    print('length of data: ', len(data))\n",
    "\n",
    "    # split train/test\n",
    "    numTrain = int(num_sample * train_portion)\n",
    "    train = encoded_headlines[:numTrain]\n",
    "    test = encoded_headlines[numTrain:]\n",
    "    \n",
    "    ix_word = defaultdict(str)\n",
    "    for w in word_ix:\n",
    "        ix_word[word_ix[w]] = w\n",
    "    \n",
    "    # create a folder for the version to store the related stuff\n",
    "    path = os.path.join('data', data_version)\n",
    "    if os.path.exists(path) == False:\n",
    "        os.makedirs(path)\n",
    "    \n",
    "    description = f'train: {len(train)}, test: {len(test)}'\n",
    "    desc = open(os.path.join(path, 'description.txt'), 'w')\n",
    "    desc.write(description + '\\n')\n",
    "    desc.close()\n",
    "    \n",
    "    word_ix_str = os.path.join(path, f'word_ix.pkl')\n",
    "    ix_word_str = os.path.join(path, f'ix_word.pkl')\n",
    "    train_str = os.path.join(path, f'train.pkl')\n",
    "    test_str = os.path.join(path, f'test.pkl')\n",
    "    \n",
    "    pickle.dump(word_ix, open(word_ix_str, 'wb'))\n",
    "    pickle.dump(ix_word, open(ix_word_str, 'wb'))\n",
    "    pickle.dump(train, open(train_str, 'wb'))\n",
    "    pickle.dump(test, open(test_str, 'wb'))"
   ]
  },
  {
   "cell_type": "code",
   "execution_count": 6,
   "id": "53902b63",
   "metadata": {},
   "outputs": [
    {
     "name": "stdout",
     "output_type": "stream",
     "text": [
      "length of word_ix:  16217\n",
      "length of data:  15000\n"
     ]
    }
   ],
   "source": [
    "createData(15000, 0.85, data_version='v9')"
   ]
  },
  {
   "cell_type": "code",
   "execution_count": null,
   "id": "c1a3df09",
   "metadata": {},
   "outputs": [],
   "source": []
  }
 ],
 "metadata": {
  "kernelspec": {
   "display_name": "Python 3 (clean)",
   "language": "python",
   "name": "python3_clean"
  },
  "language_info": {
   "codemirror_mode": {
    "name": "ipython",
    "version": 3
   },
   "file_extension": ".py",
   "mimetype": "text/x-python",
   "name": "python",
   "nbconvert_exporter": "python",
   "pygments_lexer": "ipython3",
   "version": "3.9.5"
  }
 },
 "nbformat": 4,
 "nbformat_minor": 5
}
